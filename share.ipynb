{
 "cells": [
  {
   "cell_type": "markdown",
   "source": [
    "## 理论知识\r\n",
    "#### 应用\r\n",
    "\r\n",
    "- 早期应用：垃圾邮件分类\r\n",
    "- 图像识别：两只动物，如何识别狗、猫\r\n",
    "- 人脸识别\r\n",
    "- 数字识别：MNIST 数据集；场景：快递码识别等\r\n",
    "\r\n",
    "\r\n",
    "\r\n",
    "#### 人类如何学习\r\n",
    "\r\n",
    "\r\n",
    "<img src=\"https://cdn.nlark.com/yuque/0/2021/png/95500/1623855023510-6fdfa8e7-8abe-4720-af48-d9906a4fcd38.png\" width=\"800\" align=\"middle\" />\r\n",
    "\r\n",
    "\r\n",
    "#### 机器如何学习\r\n",
    "\r\n",
    "<img src=\"https://cdn.nlark.com/yuque/0/2021/png/95500/1623855061254-60e169ba-9375-4cc2-8878-a8c7b5cb7e53.png\" width=\"800\" align=\"middle\" />\r\n",
    "\r\n",
    "**\r\n",
    "#### 机器学习分类：\r\n",
    "监督学习\r\n",
    "> 给机器的训练数据拥有“标记”或者“答案”（分类问题和回归问题，例如垃圾邮件的判断）\r\n",
    "\r\n",
    "非监督学习\r\n",
    "> 给机器的训练数据没有任何“标记”或者“答案”，学习模型是为了推断出数据的一些内在结（对数据进行分类-聚类分析）\r\n",
    "\r\n",
    "半监督学习\r\n",
    "> 一部分数据有“标记”或者“答案”，另一部分数据没有，可以用来进行预测（分类和回归）\r\n",
    "\r\n",
    "增强(强化)学习\r\n",
    "> 根据周围环境的情况，采取行动，根据采取行动的结果，学习行动方式，输入数据直接反馈到模型，模型必须对此立刻作出调整（动态系统以及机器人控制）\r\n",
    "\r\n",
    "#### 常见的算法\r\n",
    "\r\n",
    "- KNN\r\n",
    "- SVM\r\n",
    "- 线性回归\r\n",
    "- 决策树\r\n",
    "- 多项线性回归\r\n",
    "- 随机森林\r\n",
    "- 逻辑回归\r\n",
    "#### 技术栈\r\n",
    "\r\n",
    "- 语言：Python3\r\n",
    "- 框架：Scikit-learn\r\n",
    "- 其他：numpy，matplotlib， panda……\r\n",
    "- IDE：Jupyter Notebook\r\n",
    "## 基本数据处理\r\n",
    "### Numpy"
   ],
   "metadata": {}
  },
  {
   "cell_type": "markdown",
   "source": [
    "### Panda\r\n",
    "\r\n",
    "\r\n",
    "### Matplotlib\r\n",
    "\r\n",
    "\r\n",
    "## KNN算法-最基础的分类算法\r\n",
    "#### 概念\r\n",
    "#### 原理\r\n",
    "#### 实现步骤\r\n",
    "## 简单线性回归\r\n",
    "#### 概念\r\n",
    "#### 原理\r\n",
    "#### 实现步骤\r\n",
    "\r\n",
    "\r\n",
    "1、数据的重要性：**数据即算法-数据驱动****\r\n",
    "2、算法的选择：**算法选择-简单就是好的，特定问题特定算法**"
   ],
   "metadata": {}
  }
 ],
 "metadata": {
  "orig_nbformat": 4,
  "language_info": {
   "name": "python",
   "version": "3.9.2",
   "mimetype": "text/x-python",
   "codemirror_mode": {
    "name": "ipython",
    "version": 3
   },
   "pygments_lexer": "ipython3",
   "nbconvert_exporter": "python",
   "file_extension": ".py"
  },
  "kernelspec": {
   "name": "python3",
   "display_name": "Python 3.9.2 64-bit"
  },
  "interpreter": {
   "hash": "4eaf1be304415beee96765ae99c3f893cc8312c7f1196698e6029668e9aeb3e5"
  }
 },
 "nbformat": 4,
 "nbformat_minor": 2
}