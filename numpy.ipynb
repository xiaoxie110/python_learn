{
 "metadata": {
  "language_info": {
   "codemirror_mode": {
    "name": "ipython",
    "version": 3
   },
   "file_extension": ".py",
   "mimetype": "text/x-python",
   "name": "python",
   "nbconvert_exporter": "python",
   "pygments_lexer": "ipython3",
   "version": "3.7.0"
  },
  "orig_nbformat": 4,
  "kernelspec": {
   "name": "python3",
   "display_name": "Python 3.7.0 32-bit"
  },
  "interpreter": {
   "hash": "ebeadc18554c2629c665c746d7854b5da3a4d13209170200208b05d000b9b6d4"
  }
 },
 "nbformat": 4,
 "nbformat_minor": 2,
 "cells": [
  {
   "source": [
    "#### numpy.array基本操作"
   ],
   "cell_type": "markdown",
   "metadata": {}
  },
  {
   "cell_type": "code",
   "execution_count": 9,
   "metadata": {},
   "outputs": [
    {
     "output_type": "execute_result",
     "data": {
      "text/plain": [
       "15"
      ]
     },
     "metadata": {},
     "execution_count": 9
    }
   ],
   "source": [
    "import numpy as np\n",
    "x = np.arange(15).reshape(3, 5)\n",
    "# 数组维度\n",
    "x.ndim\n",
    "# 数组维度元组\n",
    "x.shape\n",
    "# 数组个数\n",
    "x.size"
   ]
  },
  {
   "source": [
    "#### numpy.array 数据访问"
   ],
   "cell_type": "markdown",
   "metadata": {}
  },
  {
   "cell_type": "code",
   "execution_count": 14,
   "metadata": {},
   "outputs": [
    {
     "output_type": "execute_result",
     "data": {
      "text/plain": [
       "array([[0, 1, 2, 3, 4]])"
      ]
     },
     "metadata": {},
     "execution_count": 14
    }
   ],
   "source": [
    "x[1, 3]\n",
    "\n",
    "# 切片\n",
    "x[:2, :3]\n",
    "\n",
    "x[:2][:1]\n",
    "\n",
    "# copy 复制原矩阵，并且新开内存"
   ]
  },
  {
   "source": [
    "#### Reshape"
   ],
   "cell_type": "markdown",
   "metadata": {}
  },
  {
   "cell_type": "code",
   "execution_count": 16,
   "metadata": {},
   "outputs": [
    {
     "output_type": "execute_result",
     "data": {
      "text/plain": [
       "array([[ 0,  1,  2],\n",
       "       [ 3,  4,  5],\n",
       "       [ 6,  7,  8],\n",
       "       [ 9, 10, 11],\n",
       "       [12, 13, 14]])"
      ]
     },
     "metadata": {},
     "execution_count": 16
    }
   ],
   "source": [
    "x.reshape(5, 3)"
   ]
  },
  {
   "cell_type": "code",
   "execution_count": 19,
   "metadata": {},
   "outputs": [
    {
     "output_type": "execute_result",
     "data": {
      "text/plain": [
       "array([[0],\n",
       "       [1],\n",
       "       [2],\n",
       "       [3],\n",
       "       [4],\n",
       "       [5],\n",
       "       [6],\n",
       "       [7],\n",
       "       [8],\n",
       "       [9]])"
      ]
     },
     "metadata": {},
     "execution_count": 19
    }
   ],
   "source": [
    "X = np.arange(10)\n",
    "X.reshape(10 , -1)"
   ]
  },
  {
   "cell_type": "code",
   "execution_count": 20,
   "metadata": {},
   "outputs": [
    {
     "output_type": "execute_result",
     "data": {
      "text/plain": [
       "array([1, 2, 3, 3, 2, 1])"
      ]
     },
     "metadata": {},
     "execution_count": 20
    }
   ],
   "source": [
    "# 合并操作\n",
    "x = np.array([1,2,3])\n",
    "y = np.array([3,2,1])\n",
    "np.concatenate([x,y])"
   ]
  },
  {
   "cell_type": "code",
   "execution_count": 21,
   "metadata": {},
   "outputs": [
    {
     "output_type": "execute_result",
     "data": {
      "text/plain": [
       "array([[1, 2, 3, 1, 2, 3],\n",
       "       [4, 5, 6, 4, 5, 6]])"
      ]
     },
     "metadata": {},
     "execution_count": 21
    }
   ],
   "source": [
    "a = np.array([[1,2,3],[4,5,6]])\n",
    "np.concatenate([a, a], axis=1)"
   ]
  },
  {
   "cell_type": "code",
   "execution_count": 27,
   "metadata": {},
   "outputs": [
    {
     "output_type": "execute_result",
     "data": {
      "text/plain": [
       "array([[1, 2, 3],\n",
       "       [1, 2, 3],\n",
       "       [4, 5, 6]])"
      ]
     },
     "metadata": {},
     "execution_count": 27
    }
   ],
   "source": [
    "b = np.arange(10)\n",
    "np.vstack([x, a])"
   ]
  },
  {
   "cell_type": "code",
   "execution_count": 30,
   "metadata": {},
   "outputs": [
    {
     "output_type": "execute_result",
     "data": {
      "text/plain": [
       "array([0, 1, 2])"
      ]
     },
     "metadata": {},
     "execution_count": 30
    }
   ],
   "source": [
    "x = np.arange(10)\n",
    "x1, x2, x3 = np.split(x, [3, 7])\n",
    "x1"
   ]
  },
  {
   "cell_type": "code",
   "execution_count": 38,
   "metadata": {},
   "outputs": [
    {
     "output_type": "execute_result",
     "data": {
      "text/plain": [
       "[array([[ 0,  1,  2,  3],\n",
       "        [ 5,  6,  7,  8],\n",
       "        [10, 11, 12, 13]]),\n",
       " array([[ 4],\n",
       "        [ 9],\n",
       "        [14]])]"
      ]
     },
     "metadata": {},
     "execution_count": 38
    }
   ],
   "source": [
    "x = np.arange(15).reshape(3, 5)\n",
    "a , b = np.vsplit(x, [2])\n",
    "a\n",
    "b\n",
    "c = np.hsplit(x, [-1])\n",
    "c"
   ]
  },
  {
   "cell_type": "code",
   "execution_count": 44,
   "metadata": {},
   "outputs": [
    {
     "output_type": "execute_result",
     "data": {
      "text/plain": [
       "array(<generator object <genexpr> at 0x05057CF0>, dtype=object)"
      ]
     },
     "metadata": {},
     "execution_count": 44
    }
   ],
   "source": [
    "L = [i for i in range(10)]\n",
    "s = [2*e for e in L]\n",
    "A = np.array(2*e for e in L)\n",
    "A"
   ]
  },
  {
   "cell_type": "code",
   "execution_count": 47,
   "metadata": {},
   "outputs": [
    {
     "output_type": "execute_result",
     "data": {
      "text/plain": [
       "array([0.        , 0.66666667, 1.33333333, 2.        , 2.66666667,\n",
       "       3.33333333, 4.        , 4.66666667, 5.33333333, 6.        ])"
      ]
     },
     "metadata": {},
     "execution_count": 47
    }
   ],
   "source": [
    "L = np.arange(10)\n",
    "A = 2*L\n",
    "A + 1\n",
    "A/3"
   ]
  },
  {
   "source": [
    "#### 矩阵运算"
   ],
   "cell_type": "markdown",
   "metadata": {}
  },
  {
   "cell_type": "code",
   "execution_count": 54,
   "metadata": {},
   "outputs": [
    {
     "output_type": "execute_result",
     "data": {
      "text/plain": [
       "array([[-10,  -9],\n",
       "       [ -8,  -7]])"
      ]
     },
     "metadata": {},
     "execution_count": 54
    }
   ],
   "source": [
    "a = np.arange(4).reshape(2,2)\n",
    "b= np.full((2,2), 10)\n",
    "a + b\n",
    "a*b\n",
    "a-b"
   ]
  },
  {
   "cell_type": "code",
   "execution_count": 58,
   "metadata": {},
   "outputs": [
    {
     "output_type": "execute_result",
     "data": {
      "text/plain": [
       "array([2, 8])"
      ]
     },
     "metadata": {},
     "execution_count": 58
    }
   ],
   "source": [
    "v = np.array([1,2])\n",
    "a = np.array([[0,1],[2,3]])\n",
    "v*a\n",
    "v.dot(a)\n",
    "a.dot(v)"
   ]
  },
  {
   "cell_type": "code",
   "execution_count": 63,
   "metadata": {},
   "outputs": [
    {
     "output_type": "execute_result",
     "data": {
      "text/plain": [
       "1.5"
      ]
     },
     "metadata": {},
     "execution_count": 63
    }
   ],
   "source": [
    "a = np.arange(16).reshape(4, -1)\n",
    "a.sum(axis=0)\n",
    "a[0].mean()"
   ]
  },
  {
   "cell_type": "code",
   "execution_count": 67,
   "metadata": {},
   "outputs": [
    {
     "output_type": "execute_result",
     "data": {
      "text/plain": [
       "0.06761570321968925"
      ]
     },
     "metadata": {},
     "execution_count": 67
    }
   ],
   "source": [
    "x = np.random.normal(0, 1, size = 1000)\n",
    "np.mean(x)"
   ]
  },
  {
   "cell_type": "code",
   "execution_count": 80,
   "metadata": {},
   "outputs": [
    {
     "output_type": "execute_result",
     "data": {
      "text/plain": [
       "622"
      ]
     },
     "metadata": {},
     "execution_count": 80
    }
   ],
   "source": [
    "np.argmax(x)"
   ]
  },
  {
   "cell_type": "code",
   "execution_count": 84,
   "metadata": {},
   "outputs": [
    {
     "output_type": "execute_result",
     "data": {
      "text/plain": [
       "3.359802224282565"
      ]
     },
     "metadata": {},
     "execution_count": 84
    }
   ],
   "source": [
    "x[622]"
   ]
  },
  {
   "cell_type": "code",
   "execution_count": 78,
   "metadata": {},
   "outputs": [
    {
     "output_type": "execute_result",
     "data": {
      "text/plain": [
       "3.359802224282565"
      ]
     },
     "metadata": {},
     "execution_count": 78
    }
   ],
   "source": [
    "np.max(x)"
   ]
  },
  {
   "cell_type": "code",
   "execution_count": 100,
   "metadata": {},
   "outputs": [
    {
     "output_type": "execute_result",
     "data": {
      "text/plain": [
       "array([ 0,  1,  2,  3,  4,  5,  6,  7,  8,  9, 10, 11, 12, 13, 14, 15])"
      ]
     },
     "metadata": {},
     "execution_count": 100
    }
   ],
   "source": [
    "a = np.arange(16)\n",
    "np.random.shuffle(a)\n",
    "a.sort()\n",
    "a"
   ]
  },
  {
   "cell_type": "code",
   "execution_count": 101,
   "metadata": {},
   "outputs": [
    {
     "output_type": "execute_result",
     "data": {
      "text/plain": [
       "array([3, 5, 8])"
      ]
     },
     "metadata": {},
     "execution_count": 101
    }
   ],
   "source": [
    "a[3:9:2]\n",
    "a[[3, 5, 8]]"
   ]
  },
  {
   "cell_type": "code",
   "execution_count": 107,
   "metadata": {},
   "outputs": [
    {
     "output_type": "execute_result",
     "data": {
      "text/plain": [
       "array([ 4,  9, 14])"
      ]
     },
     "metadata": {},
     "execution_count": 107
    }
   ],
   "source": [
    "X = a.reshape(4, -1)\n",
    "x = X[\n",
    "    np.array([1, 2, 3]),\n",
    "    np.array([0, 1, 2])\n",
    "]\n",
    "x"
   ]
  },
  {
   "cell_type": "code",
   "execution_count": 108,
   "metadata": {},
   "outputs": [
    {
     "output_type": "execute_result",
     "data": {
      "text/plain": [
       "array([[ 4,  6],\n",
       "       [ 8, 10]])"
      ]
     },
     "metadata": {},
     "execution_count": 108
    }
   ],
   "source": [
    "X[1:3, [True, False, True, False]]"
   ]
  },
  {
   "cell_type": "code",
   "execution_count": 115,
   "metadata": {},
   "outputs": [
    {
     "output_type": "execute_result",
     "data": {
      "text/plain": [
       "array([False, False, False, False, False, False,  True, False, False,\n",
       "       False, False, False, False, False, False, False])"
      ]
     },
     "metadata": {},
     "execution_count": 115
    }
   ],
   "source": [
    "x = np.arange(16)\n",
    "x < 3\n",
    "x * 2 == 24 - 2*x"
   ]
  },
  {
   "cell_type": "code",
   "execution_count": 122,
   "metadata": {},
   "outputs": [
    {
     "output_type": "execute_result",
     "data": {
      "text/plain": [
       "3"
      ]
     },
     "metadata": {},
     "execution_count": 122
    }
   ],
   "source": [
    "np.sum(x<3)\n",
    "np.any(x < 0)\n",
    "np.all(x > 0)\n",
    "np.sum((x>3) & (x<7))"
   ]
  }
 ]
}